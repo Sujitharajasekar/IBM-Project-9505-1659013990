{
  "metadata": {
    "colab": {
      "provenance": [],
      "collapsed_sections": []
    },
    "kernelspec": {
      "name": "python",
      "display_name": "Python (Pyodide)",
      "language": "python"
    },
    "language_info": {
      "codemirror_mode": {
        "name": "python",
        "version": 3
      },
      "file_extension": ".py",
      "mimetype": "text/x-python",
      "name": "python",
      "nbconvert_exporter": "python",
      "pygments_lexer": "ipython3",
      "version": "3.8"
    }
  },
  "nbformat_minor": 4,
  "nbformat": 4,
  "cells": [
    {
      "cell_type": "markdown",
      "source": "# Basic Python",
      "metadata": {
        "id": "McSxJAwcOdZ1"
      }
    },
    {
      "cell_type": "markdown",
      "source": "## 1. Split this string",
      "metadata": {
        "id": "CU48hgo4Owz5"
      }
    },
    {
      "cell_type": "code",
      "source": "s = \"Hi there Sam!\"",
      "metadata": {
        "id": "s07c7JK7Oqt-",
        "trusted": true
      },
      "execution_count": 4,
      "outputs": []
    },
    {
      "cell_type": "code",
      "source": "s=s.split(\" \")\ns",
      "metadata": {
        "id": "6mGVa3SQYLkb",
        "trusted": true
      },
      "execution_count": 5,
      "outputs": [
        {
          "execution_count": 5,
          "output_type": "execute_result",
          "data": {
            "text/plain": "['Hi', 'there', 'Sam!']"
          },
          "metadata": {}
        }
      ]
    },
    {
      "cell_type": "markdown",
      "source": "## 2. Use .format() to print the following string. \n\n### Output should be: The diameter of Earth is 12742 kilometers.",
      "metadata": {
        "id": "GH1QBn8HP375"
      }
    },
    {
      "cell_type": "code",
      "source": "planet = \"Earth\"\ndiameter = 12742",
      "metadata": {
        "id": "_ZHoml3kPqic"
      },
      "execution_count": null,
      "outputs": []
    },
    {
      "cell_type": "code",
      "source": "print(\"The diameter of {planet} is {diameter} kilometers\".format(planet=\"Earth\",diameter=12742))",
      "metadata": {
        "id": "HyRyJv6CYPb4",
        "trusted": true
      },
      "execution_count": 15,
      "outputs": [
        {
          "name": "stdout",
          "text": "The diameter of Earth is 12742 kilometers\n",
          "output_type": "stream"
        }
      ]
    },
    {
      "cell_type": "markdown",
      "source": "## 3. In this nest dictionary grab the word \"hello\"",
      "metadata": {
        "id": "KE74ZEwkRExZ"
      }
    },
    {
      "cell_type": "code",
      "source": "d = {'k1':[1,2,3,{'tricky':['oh','man','inception',{'target':[1,2,3,'hello']}]}]}",
      "metadata": {
        "id": "fcVwbCc1QrQI",
        "trusted": true
      },
      "execution_count": 16,
      "outputs": []
    },
    {
      "cell_type": "code",
      "source": "d['k1'][3]['tricky'][3]['target'][3]",
      "metadata": {
        "id": "MvbkMZpXYRaw",
        "trusted": true
      },
      "execution_count": 17,
      "outputs": [
        {
          "execution_count": 17,
          "output_type": "execute_result",
          "data": {
            "text/plain": "'hello'"
          },
          "metadata": {}
        }
      ]
    },
    {
      "cell_type": "markdown",
      "source": "# Numpy",
      "metadata": {
        "id": "bw0vVp-9ddjv"
      }
    },
    {
      "cell_type": "code",
      "source": "import numpy as np",
      "metadata": {
        "id": "LLiE_TYrhA1O",
        "trusted": true
      },
      "execution_count": 6,
      "outputs": []
    },
    {
      "cell_type": "markdown",
      "source": "## 4.1 Create an array of 10 zeros? \n## 4.2 Create an array of 10 fives?",
      "metadata": {
        "id": "wOg8hinbgx30"
      }
    },
    {
      "cell_type": "code",
      "source": "import numpy as np\narray=np.zeros(10)\nprint(\"array of 10 zeros:\")\nprint(array)",
      "metadata": {
        "id": "NHrirmgCYXvU",
        "trusted": true
      },
      "execution_count": 7,
      "outputs": [
        {
          "name": "stdout",
          "text": "array of 10 zeros:\n[0. 0. 0. 0. 0. 0. 0. 0. 0. 0.]\n",
          "output_type": "stream"
        }
      ]
    },
    {
      "cell_type": "code",
      "source": "import numpy as np\narray=np.ones(10)*5\nprint(\"array of 10 fives:\")\nprint(array)",
      "metadata": {
        "id": "e4005lsTYXxx",
        "trusted": true
      },
      "execution_count": 9,
      "outputs": [
        {
          "name": "stdout",
          "text": "array of 10 fives:\n[5. 5. 5. 5. 5. 5. 5. 5. 5. 5.]\n",
          "output_type": "stream"
        }
      ]
    },
    {
      "cell_type": "markdown",
      "source": "## 5. Create an array of all the even integers from 20 to 35",
      "metadata": {
        "id": "gZHHDUBvrMX4"
      }
    },
    {
      "cell_type": "code",
      "source": "import numpy as np\narray=np.arange(20,35,2)\nprint(\"even integers from 20 to 35\")\nprint(array)",
      "metadata": {
        "id": "oAI2tbU2Yag-",
        "trusted": true
      },
      "execution_count": 10,
      "outputs": [
        {
          "name": "stdout",
          "text": "even integers from 20 to 35\n[20 22 24 26 28 30 32 34]\n",
          "output_type": "stream"
        }
      ]
    },
    {
      "cell_type": "markdown",
      "source": "## 6. Create a 3x3 matrix with values ranging from 0 to 8",
      "metadata": {
        "id": "NaOM308NsRpZ"
      }
    },
    {
      "cell_type": "code",
      "source": "arr=np.arange(0,9).reshape(3,3)\nprint(arr)",
      "metadata": {
        "id": "tOlEVH7BYceE",
        "trusted": true
      },
      "execution_count": 11,
      "outputs": [
        {
          "name": "stdout",
          "text": "[[0 1 2]\n [3 4 5]\n [6 7 8]]\n",
          "output_type": "stream"
        }
      ]
    },
    {
      "cell_type": "markdown",
      "source": "## 7. Concatinate a and b \n## a = np.array([1, 2, 3]), b = np.array([4, 5, 6])",
      "metadata": {
        "id": "hQ0dnhAQuU_p"
      }
    },
    {
      "cell_type": "code",
      "source": "import numpy as np\na=np.array([1,2,3])\nb=np.array([4,5,6])\narray=np.concatenate((a,b),axis=None)\nprint(array)",
      "metadata": {
        "id": "rAPSw97aYfE0",
        "trusted": true
      },
      "execution_count": 14,
      "outputs": [
        {
          "name": "stdout",
          "text": "[1 2 3 4 5 6]\n",
          "output_type": "stream"
        }
      ]
    },
    {
      "cell_type": "markdown",
      "source": "# Pandas",
      "metadata": {
        "id": "dlPEY9DRwZga"
      }
    },
    {
      "cell_type": "markdown",
      "source": "## 8. Create a dataframe with 3 rows and 2 columns",
      "metadata": {
        "id": "ijoYW51zwr87"
      }
    },
    {
      "cell_type": "code",
      "source": "import pandas as pd\n",
      "metadata": {
        "id": "T5OxJRZ8uvR7",
        "trusted": true
      },
      "execution_count": 19,
      "outputs": []
    },
    {
      "cell_type": "code",
      "source": "data={'Food':['Idli','Dosa','Pongal'],'Price':[20,50,40]}\ndf=pd.DataFrame(data)\ndf",
      "metadata": {
        "id": "xNpI_XXoYhs0",
        "trusted": true
      },
      "execution_count": 20,
      "outputs": [
        {
          "execution_count": 20,
          "output_type": "execute_result",
          "data": {
            "text/plain": "     Food  Price\n0    Idli     20\n1    Dosa     50\n2  Pongal     40",
            "text/html": "<div>\n<style scoped>\n    .dataframe tbody tr th:only-of-type {\n        vertical-align: middle;\n    }\n\n    .dataframe tbody tr th {\n        vertical-align: top;\n    }\n\n    .dataframe thead th {\n        text-align: right;\n    }\n</style>\n<table border=\"1\" class=\"dataframe\">\n  <thead>\n    <tr style=\"text-align: right;\">\n      <th></th>\n      <th>Food</th>\n      <th>Price</th>\n    </tr>\n  </thead>\n  <tbody>\n    <tr>\n      <th>0</th>\n      <td>Idli</td>\n      <td>20</td>\n    </tr>\n    <tr>\n      <th>1</th>\n      <td>Dosa</td>\n      <td>50</td>\n    </tr>\n    <tr>\n      <th>2</th>\n      <td>Pongal</td>\n      <td>40</td>\n    </tr>\n  </tbody>\n</table>\n</div>"
          },
          "metadata": {}
        }
      ]
    },
    {
      "cell_type": "markdown",
      "source": " 9. Generate the series of dates from 1st Jan, 2023 to 10th Feb, 2023",
      "metadata": {
        "id": "UXSmdNclyJQD"
      }
    },
    {
      "cell_type": "code",
      "source": "df=pd.date_range(start=\"01-01-2023\",end=\"10-02-2023\")\ndf",
      "metadata": {
        "id": "dgyC0JhVYl4F",
        "trusted": true
      },
      "execution_count": 22,
      "outputs": [
        {
          "execution_count": 22,
          "output_type": "execute_result",
          "data": {
            "text/plain": "DatetimeIndex(['2023-01-01', '2023-01-02', '2023-01-03', '2023-01-04',\n               '2023-01-05', '2023-01-06', '2023-01-07', '2023-01-08',\n               '2023-01-09', '2023-01-10',\n               ...\n               '2023-09-23', '2023-09-24', '2023-09-25', '2023-09-26',\n               '2023-09-27', '2023-09-28', '2023-09-29', '2023-09-30',\n               '2023-10-01', '2023-10-02'],\n              dtype='datetime64[ns]', length=275, freq='D')"
          },
          "metadata": {}
        }
      ]
    },
    {
      "cell_type": "markdown",
      "source": "## 10. Create 2D list to DataFrame\n\nlists = [[1, 'aaa', 22],\n         [2, 'bbb', 25],\n         [3, 'ccc', 24]]",
      "metadata": {
        "id": "ZizSetD-y5az"
      }
    },
    {
      "cell_type": "code",
      "source": "lists = [[1, 'aaa', 22], [2, 'bbb', 25], [3, 'ccc', 24]]",
      "metadata": {
        "id": "_XMC8aEt0llB",
        "trusted": true
      },
      "execution_count": 23,
      "outputs": []
    },
    {
      "cell_type": "code",
      "source": "df=pd.DataFrame(lists,columns=['Index','Word','Count'])\ndf",
      "metadata": {
        "id": "knH76sDKYsVX",
        "trusted": true
      },
      "execution_count": 24,
      "outputs": [
        {
          "execution_count": 24,
          "output_type": "execute_result",
          "data": {
            "text/plain": "   Index Word  Count\n0      1  aaa     22\n1      2  bbb     25\n2      3  ccc     24",
            "text/html": "<div>\n<style scoped>\n    .dataframe tbody tr th:only-of-type {\n        vertical-align: middle;\n    }\n\n    .dataframe tbody tr th {\n        vertical-align: top;\n    }\n\n    .dataframe thead th {\n        text-align: right;\n    }\n</style>\n<table border=\"1\" class=\"dataframe\">\n  <thead>\n    <tr style=\"text-align: right;\">\n      <th></th>\n      <th>Index</th>\n      <th>Word</th>\n      <th>Count</th>\n    </tr>\n  </thead>\n  <tbody>\n    <tr>\n      <th>0</th>\n      <td>1</td>\n      <td>aaa</td>\n      <td>22</td>\n    </tr>\n    <tr>\n      <th>1</th>\n      <td>2</td>\n      <td>bbb</td>\n      <td>25</td>\n    </tr>\n    <tr>\n      <th>2</th>\n      <td>3</td>\n      <td>ccc</td>\n      <td>24</td>\n    </tr>\n  </tbody>\n</table>\n</div>"
          },
          "metadata": {}
        }
      ]
    },
    {
      "cell_type": "code",
      "source": "",
      "metadata": {},
      "execution_count": null,
      "outputs": []
    }
  ]
}